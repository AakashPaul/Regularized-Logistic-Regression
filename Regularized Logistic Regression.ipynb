{
 "cells": [
  {
   "cell_type": "code",
   "execution_count": 2,
   "metadata": {},
   "outputs": [],
   "source": [
    "#logistic regression"
   ]
  },
  {
   "cell_type": "code",
   "execution_count": 4,
   "metadata": {},
   "outputs": [],
   "source": [
    "#importing necessary library files\n",
    "import numpy as np\n",
    "import pandas as pd\n",
    "import matplotlib.pyplot as plt\n",
    "import scipy.optimize as opt"
   ]
  },
  {
   "cell_type": "code",
   "execution_count": 6,
   "metadata": {},
   "outputs": [
    {
     "data": {
      "text/html": [
       "<div>\n",
       "<style scoped>\n",
       "    .dataframe tbody tr th:only-of-type {\n",
       "        vertical-align: middle;\n",
       "    }\n",
       "\n",
       "    .dataframe tbody tr th {\n",
       "        vertical-align: top;\n",
       "    }\n",
       "\n",
       "    .dataframe thead th {\n",
       "        text-align: right;\n",
       "    }\n",
       "</style>\n",
       "<table border=\"1\" class=\"dataframe\">\n",
       "  <thead>\n",
       "    <tr style=\"text-align: right;\">\n",
       "      <th></th>\n",
       "      <th>0</th>\n",
       "      <th>1</th>\n",
       "      <th>2</th>\n",
       "    </tr>\n",
       "  </thead>\n",
       "  <tbody>\n",
       "    <tr>\n",
       "      <th>0</th>\n",
       "      <td>34.623660</td>\n",
       "      <td>78.024693</td>\n",
       "      <td>0</td>\n",
       "    </tr>\n",
       "    <tr>\n",
       "      <th>1</th>\n",
       "      <td>30.286711</td>\n",
       "      <td>43.894998</td>\n",
       "      <td>0</td>\n",
       "    </tr>\n",
       "    <tr>\n",
       "      <th>2</th>\n",
       "      <td>35.847409</td>\n",
       "      <td>72.902198</td>\n",
       "      <td>0</td>\n",
       "    </tr>\n",
       "    <tr>\n",
       "      <th>3</th>\n",
       "      <td>60.182599</td>\n",
       "      <td>86.308552</td>\n",
       "      <td>1</td>\n",
       "    </tr>\n",
       "    <tr>\n",
       "      <th>4</th>\n",
       "      <td>79.032736</td>\n",
       "      <td>75.344376</td>\n",
       "      <td>1</td>\n",
       "    </tr>\n",
       "  </tbody>\n",
       "</table>\n",
       "</div>"
      ],
      "text/plain": [
       "           0          1  2\n",
       "0  34.623660  78.024693  0\n",
       "1  30.286711  43.894998  0\n",
       "2  35.847409  72.902198  0\n",
       "3  60.182599  86.308552  1\n",
       "4  79.032736  75.344376  1"
      ]
     },
     "execution_count": 6,
     "metadata": {},
     "output_type": "execute_result"
    }
   ],
   "source": [
    "#loading the data file\n",
    "data=pd.read_csv(\"C:\\\\Users\\\\inspiron\\\\Documents\\\\ex2data1.txt\",header=None)\n",
    "x = data.iloc[:,0:2]\n",
    "y = data.iloc[:,2]\n",
    "data.head()"
   ]
  },
  {
   "cell_type": "code",
   "execution_count": 7,
   "metadata": {},
   "outputs": [
    {
     "data": {
      "image/png": "[encoded data removed]",
      "text/plain": [
       "<Figure size 432x288 with 1 Axes>"
      ]
     },
     "metadata": {},
     "output_type": "display_data"
    }
   ],
   "source": [
    "#plotting the given data\n",
    "\n",
    "#masking (for plotting two different variables)\n",
    "\n",
    "mask = y == 1 \n",
    "adm = plt.scatter(x[mask][0].values, x[mask][1].values)\n",
    "not_adm = plt.scatter(x[~mask][0].values, x[~mask][1].values)\n",
    "plt.xlabel('exam1 score')\n",
    "plt.ylabel('exam2 score')\n",
    "plt.legend((adm, not_adm), ('Admitted', 'Not admitted'))\n",
    "plt.show()"
   ]
  },
  {
   "cell_type": "code",
   "execution_count": 8,
   "metadata": {},
   "outputs": [],
   "source": [
    "#setting the parameters\n",
    "m=len(y)\n",
    "x = np.hstack((np.ones((m,1)), x))\n",
    "y = y[:, np.newaxis]\n",
    "theta = np.zeros((3,1))"
   ]
  },
  {
   "cell_type": "code",
   "execution_count": 9,
   "metadata": {},
   "outputs": [],
   "source": [
    "#defining sigmoid function\n",
    "def sigmoid(X):\n",
    "    return 1/(1+np.exp(-X))"
   ]
  },
  {
   "cell_type": "code",
   "execution_count": 12,
   "metadata": {},
   "outputs": [],
   "source": [
    "#defining Cost Function\n",
    "def costFunc(theta,x,y):\n",
    "    J = (-1/m) * np.sum(np.multiply(y, np.log(sigmoid(x @ theta))) + np.multiply((1-y), np.log(1 - sigmoid(x @ theta))))\n",
    "    return J"
   ]
  },
  {
   "cell_type": "code",
   "execution_count": 21,
   "metadata": {},
   "outputs": [
    {
     "name": "stdout",
     "output_type": "stream",
     "text": [
      "[[0.]\n",
      " [0.]\n",
      " [0.]]\n",
      "\n",
      "\n",
      "0.6931471805599453\n"
     ]
    }
   ],
   "source": [
    "#defining Gradient Descent function\n",
    "def gradientDescent(theta,x,y):\n",
    "    theta=((1/m) * x.T @ (sigmoid(x @ theta) - y))\n",
    "    return theta\n",
    "\n",
    "print(theta)\n",
    "\n",
    "print(\"\\n\")\n",
    "\n",
    "J=costFunc(theta,x,y)\n",
    "print(J)"
   ]
  },
  {
   "cell_type": "code",
   "execution_count": 25,
   "metadata": {},
   "outputs": [
    {
     "name": "stdout",
     "output_type": "stream",
     "text": [
      "[-25.16131862   0.20623159   0.20147149]\n",
      "\n",
      "\n",
      "0.20349770158947464\n"
     ]
    }
   ],
   "source": [
    "#Learning parameters using fmin_tnc\n",
    "\n",
    "temp = opt.fmin_tnc(func = costFunc, \n",
    "                    x0 = theta.flatten(),fprime = gradientDescent, \n",
    "                    args = (x, y.flatten()))\n",
    "theta_optimized = temp[0]\n",
    "print(theta_optimized)\n",
    "\n",
    "print(\"\\n\")\n",
    "\n",
    "J = costFunc(theta_optimized[:,np.newaxis], x, y)\n",
    "print(J)"
   ]
  },
  {
   "cell_type": "code",
   "execution_count": 26,
   "metadata": {},
   "outputs": [
    {
     "data": {
      "image/png": "[encoded data removed]",
      "text/plain": [
       "<Figure size 432x288 with 1 Axes>"
      ]
     },
     "metadata": {},
     "output_type": "display_data"
    }
   ],
   "source": [
    "#Plotting Decision Boundary \n",
    "\n",
    "plot_x = [np.min(x[:,1]-2), np.max(x[:,2]+2)]\n",
    "plot_y = -1/theta_optimized[2]*(theta_optimized[0]+np.dot(theta_optimized[1],plot_x))\n",
    "\n",
    "adm = plt.scatter(x[mask][:,1], x[mask][:,2])\n",
    "not_adm = plt.scatter(x[~mask][:,1], x[~mask][:,2])\n",
    "decision_boun = plt.plot(plot_x, plot_y)\n",
    "plt.xlabel('Exam 1 score')\n",
    "plt.ylabel('Exam 2 score')\n",
    "plt.legend((adm, not_adm), ('Admitted', 'Not admitted'))\n",
    "plt.show()"
   ]
  },
  {
   "cell_type": "code",
   "execution_count": 27,
   "metadata": {},
   "outputs": [
    {
     "name": "stdout",
     "output_type": "stream",
     "text": [
      "89.0\n"
     ]
    }
   ],
   "source": [
    "#determining accuracy\n",
    "\n",
    "def accuracy(x,y,theta,cutoff):\n",
    "    prediction=[sigmoid(x@theta) >=cutoff]\n",
    "    acc=np.mean(prediction==y)\n",
    "    print(acc*100)\n",
    "    \n",
    "accuracy(x, y.flatten(), theta_optimized,0.5)"
   ]
  }
 ],
 "metadata": {
  "kernelspec": {
   "display_name": "Python 3",
   "language": "python",
   "name": "python3"
  },
  "language_info": {
   "codemirror_mode": {
    "name": "ipython",
    "version": 3
   },
   "file_extension": ".py",
   "mimetype": "text/x-python",
   "name": "python",
   "nbconvert_exporter": "python",
   "pygments_lexer": "ipython3",
   "version": "3.6.5"
  }
 },
 "nbformat": 4,
 "nbformat_minor": 2
}
