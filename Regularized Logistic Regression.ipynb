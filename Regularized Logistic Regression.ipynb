{
 "cells": [
  {
   "cell_type": "code",
   "execution_count": 4,
   "metadata": {},
   "outputs": [],
   "source": [
    "#Regularized logistic regression"
   ]
  },
  {
   "cell_type": "code",
   "execution_count": 10,
   "metadata": {},
   "outputs": [],
   "source": [
    "#importing necessary library files\n",
    "import numpy as np\n",
    "import pandas as pd\n",
    "import matplotlib.pyplot as plt\n",
    "import scipy.optimize as opt"
   ]
  },
  {
   "cell_type": "code",
   "execution_count": 11,
   "metadata": {},
   "outputs": [
    {
     "data": {
      "text/html": [
       "<div>\n",
       "<style scoped>\n",
       "    .dataframe tbody tr th:only-of-type {\n",
       "        vertical-align: middle;\n",
       "    }\n",
       "\n",
       "    .dataframe tbody tr th {\n",
       "        vertical-align: top;\n",
       "    }\n",
       "\n",
       "    .dataframe thead th {\n",
       "        text-align: right;\n",
       "    }\n",
       "</style>\n",
       "<table border=\"1\" class=\"dataframe\">\n",
       "  <thead>\n",
       "    <tr style=\"text-align: right;\">\n",
       "      <th></th>\n",
       "      <th>0</th>\n",
       "      <th>1</th>\n",
       "      <th>2</th>\n",
       "    </tr>\n",
       "  </thead>\n",
       "  <tbody>\n",
       "    <tr>\n",
       "      <th>0</th>\n",
       "      <td>0.051267</td>\n",
       "      <td>0.69956</td>\n",
       "      <td>1</td>\n",
       "    </tr>\n",
       "    <tr>\n",
       "      <th>1</th>\n",
       "      <td>-0.092742</td>\n",
       "      <td>0.68494</td>\n",
       "      <td>1</td>\n",
       "    </tr>\n",
       "    <tr>\n",
       "      <th>2</th>\n",
       "      <td>-0.213710</td>\n",
       "      <td>0.69225</td>\n",
       "      <td>1</td>\n",
       "    </tr>\n",
       "    <tr>\n",
       "      <th>3</th>\n",
       "      <td>-0.375000</td>\n",
       "      <td>0.50219</td>\n",
       "      <td>1</td>\n",
       "    </tr>\n",
       "    <tr>\n",
       "      <th>4</th>\n",
       "      <td>-0.513250</td>\n",
       "      <td>0.46564</td>\n",
       "      <td>1</td>\n",
       "    </tr>\n",
       "  </tbody>\n",
       "</table>\n",
       "</div>"
      ],
      "text/plain": [
       "          0        1  2\n",
       "0  0.051267  0.69956  1\n",
       "1 -0.092742  0.68494  1\n",
       "2 -0.213710  0.69225  1\n",
       "3 -0.375000  0.50219  1\n",
       "4 -0.513250  0.46564  1"
      ]
     },
     "execution_count": 11,
     "metadata": {},
     "output_type": "execute_result"
    }
   ],
   "source": [
    "#loading the data file\n",
    "data=pd.read_csv(\"C:\\\\Users\\\\inspiron\\\\Documents\\\\ex2data2.txt\",header=None)\n",
    "x=data.iloc[:,0:2]\n",
    "y=data.iloc[:,2]\n",
    "data.head()"
   ]
  },
  {
   "cell_type": "code",
   "execution_count": 12,
   "metadata": {},
   "outputs": [
    {
     "data": {
      "image/png": "[encoded data removed]",
      "text/plain": [
       "<Figure size 432x288 with 1 Axes>"
      ]
     },
     "metadata": {},
     "output_type": "display_data"
    }
   ],
   "source": [
    "#plotting the data\n",
    "\n",
    "#masking (for plotting two different variables)\n",
    "\n",
    "mask=y==1\n",
    "passed=plt.scatter(x[mask][0].values,x[mask][1].values)\n",
    "failed=plt.scatter(x[~mask][0].values,x[~mask][1].values)\n",
    "plt.xlabel('microchip test 1')\n",
    "plt.ylabel('microchip test 2')\n",
    "plt.legend((passed,failed),('passed','failed'))\n",
    "plt.show()"
   ]
  },
  {
   "cell_type": "code",
   "execution_count": 34,
   "metadata": {},
   "outputs": [],
   "source": [
    "#mapfeaturing\n",
    "#done so that a more accurate decision boundary can be made \n",
    "#2 features will not be sufficient as a linear boundary is not required here\n",
    "\n",
    "def mapFeature(x1,x2):      \n",
    "    degree=6                                \n",
    "    out=np.ones(x.shape[0])[:,np.newaxis]\n",
    "    for i in range(1,degree+1):\n",
    "        for j in range(i+1):\n",
    "            out=np.hstack((out,np.multiply(np.power(x1,i-j),np.power(x2,j))[:,np.newaxis]))          \n",
    "    return out\n",
    "x=mapFeature(x.iloc[:,0],x.iloc[:,1])"
   ]
  },
  {
   "cell_type": "code",
   "execution_count": 38,
   "metadata": {},
   "outputs": [
    {
     "data": {
      "text/plain": [
       "array([[ 1.00000000e+00,  5.12670000e-02,  6.99560000e-01, ...,\n",
       "         6.29470940e-04,  8.58939846e-03,  1.17205992e-01],\n",
       "       [ 1.00000000e+00, -9.27420000e-02,  6.84940000e-01, ...,\n",
       "         1.89305413e-03, -1.39810280e-02,  1.03255971e-01],\n",
       "       [ 1.00000000e+00, -2.13710000e-01,  6.92250000e-01, ...,\n",
       "         1.04882142e-02, -3.39734512e-02,  1.10046893e-01],\n",
       "       ...,\n",
       "       [ 1.00000000e+00, -4.84450000e-01,  9.99270000e-01, ...,\n",
       "         2.34007252e-01, -4.82684337e-01,  9.95627986e-01],\n",
       "       [ 1.00000000e+00, -6.33640000e-03,  9.99270000e-01, ...,\n",
       "         4.00328554e-05, -6.31330588e-03,  9.95627986e-01],\n",
       "       [ 1.00000000e+00,  6.32650000e-01, -3.06120000e-02, ...,\n",
       "         3.51474517e-07, -1.70067777e-08,  8.22905998e-10]])"
      ]
     },
     "execution_count": 38,
     "metadata": {},
     "output_type": "execute_result"
    }
   ],
   "source": [
    "x"
   ]
  },
  {
   "cell_type": "code",
   "execution_count": 27,
   "metadata": {},
   "outputs": [],
   "source": [
    "#setting the parameters\n",
    "lamda=1\n",
    "(m,n)=x.shape\n",
    "theta=np.zeros((n,1))\n",
    "y=y[:,np.newaxis]"
   ]
  },
  {
   "cell_type": "code",
   "execution_count": 39,
   "metadata": {},
   "outputs": [],
   "source": [
    "#defining sigmoid function\n",
    "def sigmoid(x):\n",
    "    return 1/(1+np.exp(-x))"
   ]
  },
  {
   "cell_type": "code",
   "execution_count": 40,
   "metadata": {},
   "outputs": [
    {
     "name": "stdout",
     "output_type": "stream",
     "text": [
      "[[0.52900273]]\n"
     ]
    }
   ],
   "source": [
    "#defining Regularized Cost Function\n",
    "def reg_costFunc(theta, x, y, lamda):\n",
    "    m=len(y)\n",
    "    j=(-1/m)*(y.T @ np.log(sigmoid(x@ theta)) + (1 - y.T) @ np.log(1 - sigmoid(x@ theta)))#this is different from earlier cost \n",
    "                                                                                          #besause in this case we have to \n",
    "                                                                                          #create the result in the form of an\n",
    "                                                                                          #array so that it can be added to\n",
    "                                                                                          #regularization term\n",
    "    reg=(lamda/(2*m))*(theta[1:].T @ theta[1:])\n",
    "    j=j+reg\n",
    "    return j\n",
    "\n",
    "j=reg_costFunc(theta, x, y, lamda)\n",
    "print(j)"
   ]
  },
  {
   "cell_type": "code",
   "execution_count": 41,
   "metadata": {},
   "outputs": [],
   "source": [
    "#defining Gradient Descent Function\n",
    "def lrGradientDescent(theta, x, y, labda):\n",
    "    m = len(y)\n",
    "    grad = np.zeros([m,1])\n",
    "    grad = (1/m) * x.T @ (sigmoid(x @ theta) - y)\n",
    "    grad[1:] = grad[1:] + (lamda / m) * theta[1:]\n",
    "    return grad"
   ]
  },
  {
   "cell_type": "code",
   "execution_count": 42,
   "metadata": {},
   "outputs": [
    {
     "name": "stdout",
     "output_type": "stream",
     "text": [
      "[ 1.27273834  0.62527208  1.18108752 -2.01995903 -0.91742836 -1.43166197\n",
      "  0.12398098 -0.36553476 -0.35724832 -0.17513043 -1.45814442 -0.05098716\n",
      " -0.61555482 -0.27470373 -1.19283249 -0.24217867 -0.20601667 -0.04469701\n",
      " -0.27778465 -0.29538671 -0.45635611 -1.04319845  0.02778263 -0.29243597\n",
      "  0.0155618  -0.32739002 -0.1438903  -0.92463469]\n",
      "\n",
      "\n",
      "[[0.52900273]]\n"
     ]
    }
   ],
   "source": [
    "#Learning parameters using fmin_tnc\n",
    "output = opt.fmin_tnc(func = reg_costFunc, x0 = theta.flatten(), fprime = lrGradientDescent, \\\n",
    "                         args = (x, y.flatten(), lamda))\n",
    "theta = output[0]\n",
    "\n",
    "print(theta)\n",
    "\n",
    "print(\"\\n\")\n",
    "\n",
    "j=reg_costFunc(theta, x, y, lamda)    \n",
    "print(j)"
   ]
  },
  {
   "cell_type": "code",
   "execution_count": 43,
   "metadata": {},
   "outputs": [
    {
     "data": {
      "image/png": "[encoded data removed]",
      "text/plain": [
       "<Figure size 432x288 with 1 Axes>"
      ]
     },
     "metadata": {},
     "output_type": "display_data"
    }
   ],
   "source": [
    "# making decision boundary\n",
    "\n",
    "u = np.linspace(-1, 1.5, 50)\n",
    "v = np.linspace(-1, 1.5, 50)\n",
    "z = np.zeros((len(u), len(v)))\n",
    "\n",
    "def mapFeatureForPlotting(x1, x2):\n",
    "    degree = 6\n",
    "    out = np.ones(1)\n",
    "    for i in range(1, degree+1):\n",
    "        for j in range(i+1):\n",
    "            out = np.hstack((out, np.multiply(np.power(x1, i-j), np.power(x2, j))))\n",
    "    return out\n",
    "\n",
    "for i in range(len(u)):\n",
    "    for j in range(len(v)):\n",
    "        z[i,j]=np.dot(mapFeatureForPlotting(u[i],v[j]),theta)\n",
    "\n",
    "mask = y.flatten() == 1\n",
    "x = data.iloc[:,:-1]\n",
    "passed = plt.scatter(x[mask][0], x[mask][1])\n",
    "failed = plt.scatter(x[~mask][0], x[~mask][1])\n",
    "plt.contour(u,v,z,0)\n",
    "plt.xlabel('Microchip Test1')\n",
    "plt.ylabel('Microchip Test2')\n",
    "plt.legend((passed, failed), ('Passed', 'Failed'))\n",
    "plt.show()\n"
   ]
  }
 ],
 "metadata": {
  "kernelspec": {
   "display_name": "Python 3",
   "language": "python",
   "name": "python3"
  },
  "language_info": {
   "codemirror_mode": {
    "name": "ipython",
    "version": 3
   },
   "file_extension": ".py",
   "mimetype": "text/x-python",
   "name": "python",
   "nbconvert_exporter": "python",
   "pygments_lexer": "ipython3",
   "version": "3.6.5"
  }
 },
 "nbformat": 4,
 "nbformat_minor": 2
}
